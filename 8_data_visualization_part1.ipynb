{
 "cells": [
  {
   "cell_type": "markdown",
   "id": "33592f25-f7f7-4c70-a049-876bf49b60e1",
   "metadata": {},
   "source": [
    "### Step 3:"
   ]
  },
  {
   "cell_type": "code",
   "execution_count": 13,
   "id": "eceb93dc-1959-49ef-8d2a-21867c2013c3",
   "metadata": {},
   "outputs": [],
   "source": [
    "# Import libraries\n",
    "import pandas as pd\n",
    "import numpy as np\n",
    "import os\n",
    "import matplotlib.pyplot as plt\n",
    "import seaborn as sns\n",
    "import scipy"
   ]
  },
  {
   "cell_type": "code",
   "execution_count": 14,
   "id": "967cefa2-beff-4362-8f8a-7c2a875e018f",
   "metadata": {},
   "outputs": [],
   "source": [
    "#import the orders_products_combined\n",
    "ords_prods_merge = pd.read_pickle(...\\02 Data\\Prepared Data\\orders_products_combined.pkl')\n",
    "path = ...'\n",
    "ords_prods_merge = pd.read_pickle(os.path.join(path, '02 Data', 'Prepared Data', 'orders_products_combined.pkl'))"
   ]
  },
  {
   "cell_type": "code",
   "execution_count": 15,
   "id": "03863c2e-bb63-4cca-b29f-b3b71d40183a",
   "metadata": {},
   "outputs": [],
   "source": [
    "#import the customer data\n",
    "customers = pd.read_csv(...\\02 Data\\Original Data\\customers.csv')\n",
    "path = ...'\n",
    "customers = pd.read_csv(os.path.join(path, '02 Data', 'Original Data', 'customers.csv'))"
   ]
  },
  {
   "cell_type": "markdown",
   "id": "3ab86d3c-41ab-43e5-967c-8100db18abc7",
   "metadata": {},
   "source": [
    "### Step 4 & 5:"
   ]
  },
  {
   "cell_type": "code",
   "execution_count": 16,
   "id": "575b074d-6604-4f02-9864-fbdb2cc45ab5",
   "metadata": {},
   "outputs": [
    {
     "name": "stdout",
     "output_type": "stream",
     "text": [
      "<class 'pandas.core.frame.DataFrame'>\n",
      "RangeIndex: 206209 entries, 0 to 206208\n",
      "Data columns (total 10 columns):\n",
      " #   Column        Non-Null Count   Dtype \n",
      "---  ------        --------------   ----- \n",
      " 0   user_id       206209 non-null  int64 \n",
      " 1   First Name    194950 non-null  object\n",
      " 2   Surnam        206209 non-null  object\n",
      " 3   Gender        206209 non-null  object\n",
      " 4   STATE         206209 non-null  object\n",
      " 5   Age           206209 non-null  int64 \n",
      " 6   date_joined   206209 non-null  object\n",
      " 7   n_dependants  206209 non-null  int64 \n",
      " 8   fam_status    206209 non-null  object\n",
      " 9   income        206209 non-null  int64 \n",
      "dtypes: int64(4), object(6)\n",
      "memory usage: 15.7+ MB\n"
     ]
    }
   ],
   "source": [
    "# Wrangling customers dataset to ensure they are clean, logical, and consistent for analysis.\n",
    "\n",
    "# 1. View the structure of the customers dataset\n",
    "customers.head()  # Display the first few rows of the dataset\n",
    "customers.info()  # Show column names, data types, and null values\n"
   ]
  },
  {
   "cell_type": "code",
   "execution_count": 17,
   "id": "32f31b92-a07a-4174-8639-32209ea0693e",
   "metadata": {},
   "outputs": [
    {
     "data": {
      "text/plain": [
       "user_id             0\n",
       "First Name      11259\n",
       "Surnam              0\n",
       "Gender              0\n",
       "STATE               0\n",
       "Age                 0\n",
       "date_joined         0\n",
       "n_dependants        0\n",
       "fam_status          0\n",
       "income              0\n",
       "dtype: int64"
      ]
     },
     "execution_count": 17,
     "metadata": {},
     "output_type": "execute_result"
    }
   ],
   "source": [
    "# 2. Check for missing values\n",
    "# Identify if any columns contain missing values and determine how to handle them (e.g., fill or drop).\n",
    "customers.isnull().sum()  # Check for missing values in each column"
   ]
  },
  {
   "cell_type": "code",
   "execution_count": 18,
   "id": "ccab5068-0fa9-4a3a-90a3-c36c22c8c859",
   "metadata": {},
   "outputs": [
    {
     "data": {
      "text/plain": [
       "0"
      ]
     },
     "execution_count": 18,
     "metadata": {},
     "output_type": "execute_result"
    }
   ],
   "source": [
    "# 3. Check for duplicate rows\n",
    "customers.duplicated().sum()  # Count duplicate rows"
   ]
  },
  {
   "cell_type": "code",
   "execution_count": 19,
   "id": "a5c9e1a6-c928-406e-85ce-07a52a868649",
   "metadata": {},
   "outputs": [],
   "source": [
    "# 4. Rename columns for clarity\n",
    "customers.rename(columns={'First Name': 'first_name'}, inplace=True)\n",
    "customers.rename(columns={'Surnam': 'last_name'}, inplace=True)\n",
    "customers.rename(columns={'Gender': 'gender'}, inplace=True)\n",
    "customers.rename(columns={'STATE': 'state'}, inplace=True)\n",
    "customers.rename(columns={'Age': 'age'}, inplace=True)\n",
    "customers.rename(columns={'n_dependants': 'num_dependants'}, inplace=True)\n",
    "customers.rename(columns={'fam_status': 'civil_status'}, inplace=True)"
   ]
  },
  {
   "cell_type": "code",
   "execution_count": 20,
   "id": "fc4077cf-7d26-4cb1-a3eb-8b654e6d5ad9",
   "metadata": {},
   "outputs": [],
   "source": [
    "# Replace NaN values in 'first_name' with a placeholder\n",
    "customers['first_name'] = customers['first_name'].fillna('Unknown')"
   ]
  },
  {
   "cell_type": "code",
   "execution_count": 21,
   "id": "18affa92-63a7-4721-b6f8-386b906ca5ba",
   "metadata": {},
   "outputs": [
    {
     "name": "stdout",
     "output_type": "stream",
     "text": [
      "<class 'pandas.core.frame.DataFrame'>\n",
      "RangeIndex: 206209 entries, 0 to 206208\n",
      "Data columns (total 10 columns):\n",
      " #   Column          Non-Null Count   Dtype \n",
      "---  ------          --------------   ----- \n",
      " 0   user_id         206209 non-null  int64 \n",
      " 1   first_name      206209 non-null  object\n",
      " 2   last_name       206209 non-null  object\n",
      " 3   gender          206209 non-null  object\n",
      " 4   state           206209 non-null  object\n",
      " 5   age             206209 non-null  int64 \n",
      " 6   date_joined     206209 non-null  object\n",
      " 7   num_dependants  206209 non-null  int64 \n",
      " 8   civil_status    206209 non-null  object\n",
      " 9   income          206209 non-null  int64 \n",
      "dtypes: int64(4), object(6)\n",
      "memory usage: 15.7+ MB\n"
     ]
    }
   ],
   "source": [
    "customers.info()"
   ]
  },
  {
   "cell_type": "code",
   "execution_count": 22,
   "id": "9ec6211c-0551-4c4f-ae14-0531998f9847",
   "metadata": {},
   "outputs": [
    {
     "name": "stdout",
     "output_type": "stream",
     "text": [
      "user_id: user_id\n",
      "<class 'int'>    206209\n",
      "Name: count, dtype: int64\n",
      "first_name: first_name\n",
      "<class 'str'>    206209\n",
      "Name: count, dtype: int64\n",
      "last_name: last_name\n",
      "<class 'str'>    206209\n",
      "Name: count, dtype: int64\n",
      "gender: gender\n",
      "<class 'str'>    206209\n",
      "Name: count, dtype: int64\n",
      "state: state\n",
      "<class 'str'>    206209\n",
      "Name: count, dtype: int64\n",
      "age: age\n",
      "<class 'int'>    206209\n",
      "Name: count, dtype: int64\n",
      "date_joined: date_joined\n",
      "<class 'str'>    206209\n",
      "Name: count, dtype: int64\n",
      "num_dependants: num_dependants\n",
      "<class 'int'>    206209\n",
      "Name: count, dtype: int64\n",
      "civil_status: civil_status\n",
      "<class 'str'>    206209\n",
      "Name: count, dtype: int64\n",
      "income: income\n",
      "<class 'int'>    206209\n",
      "Name: count, dtype: int64\n"
     ]
    }
   ],
   "source": [
    "# 5. Check for mixed data types in each column\n",
    "for col in customers.columns:\n",
    "    print(f\"{col}: {customers[col].apply(type).value_counts()}\")"
   ]
  },
  {
   "cell_type": "markdown",
   "id": "e831b590-206b-4231-b87e-a58bbcb797a1",
   "metadata": {},
   "source": [
    "### Step 6:"
   ]
  },
  {
   "cell_type": "code",
   "execution_count": 15,
   "id": "33fec487-5c00-4f97-ba4c-dbf1a633e26d",
   "metadata": {},
   "outputs": [
    {
     "name": "stdout",
     "output_type": "stream",
     "text": [
      "<class 'pandas.core.frame.DataFrame'>\n",
      "Index: 30328763 entries, 5 to 32406040\n",
      "Data columns (total 20 columns):\n",
      " #   Column                         Dtype   \n",
      "---  ------                         -----   \n",
      " 0   order_id                       int64   \n",
      " 1   user_id                        int64   \n",
      " 2   order_number                   int64   \n",
      " 3   orders_day_of_week             int32   \n",
      " 4   order_hour_of_day              int32   \n",
      " 5   days_since_prior_order         float64 \n",
      " 6   product_id                     int64   \n",
      " 7   add_to_cart_order              int64   \n",
      " 8   reordered                      int64   \n",
      " 9   product_name                   category\n",
      " 10  aisle_id                       int64   \n",
      " 11  department_id                  int64   \n",
      " 12  prices                         float64 \n",
      " 13  busiest_day                    category\n",
      " 14  day_summary                    category\n",
      " 15  busiest_period_of_day          category\n",
      " 16  loyalty_flag                   category\n",
      " 17  spending_flag                  category\n",
      " 18  median_days_since_prior_order  float64 \n",
      " 19  order_frequency_flag           category\n",
      "dtypes: category(7), float64(3), int32(2), int64(8)\n",
      "memory usage: 3.2 GB\n"
     ]
    }
   ],
   "source": [
    "# 1. Check the data\n",
    "ords_prods_merge.head()\n",
    "ords_prods_merge.info()"
   ]
  },
  {
   "cell_type": "code",
   "execution_count": 23,
   "id": "77e5f124-11a5-4d08-bf58-82e9ec43153f",
   "metadata": {},
   "outputs": [],
   "source": [
    "# 2. Merge ords_prods_merge with customers on the 'user_id' column\n",
    "df_merged = pd.merge(ords_prods_merge, customers, on='user_id', how='left', indicator=True)"
   ]
  },
  {
   "cell_type": "code",
   "execution_count": 24,
   "id": "6e7b239c-5716-4a4a-a15b-6598cc044403",
   "metadata": {},
   "outputs": [],
   "source": [
    "# 3. Drop the '_merge' column\n",
    "df_merged.drop(columns=['_merge'], inplace=True)"
   ]
  },
  {
   "cell_type": "code",
   "execution_count": 25,
   "id": "7345746c-15f1-45a3-b8a0-bfab11b8a270",
   "metadata": {},
   "outputs": [
    {
     "name": "stdout",
     "output_type": "stream",
     "text": [
      "<class 'pandas.core.frame.DataFrame'>\n",
      "RangeIndex: 30328763 entries, 0 to 30328762\n",
      "Data columns (total 29 columns):\n",
      " #   Column                         Dtype   \n",
      "---  ------                         -----   \n",
      " 0   order_id                       int64   \n",
      " 1   user_id                        int64   \n",
      " 2   order_number                   int64   \n",
      " 3   orders_day_of_week             int32   \n",
      " 4   order_hour_of_day              int32   \n",
      " 5   days_since_prior_order         float64 \n",
      " 6   product_id                     int64   \n",
      " 7   add_to_cart_order              int64   \n",
      " 8   reordered                      int64   \n",
      " 9   product_name                   category\n",
      " 10  aisle_id                       int64   \n",
      " 11  department_id                  int64   \n",
      " 12  prices                         float64 \n",
      " 13  busiest_day                    category\n",
      " 14  day_summary                    category\n",
      " 15  busiest_period_of_day          category\n",
      " 16  loyalty_flag                   category\n",
      " 17  spending_flag                  category\n",
      " 18  median_days_since_prior_order  float64 \n",
      " 19  order_frequency_flag           category\n",
      " 20  first_name                     object  \n",
      " 21  last_name                      object  \n",
      " 22  gender                         object  \n",
      " 23  state                          object  \n",
      " 24  age                            int64   \n",
      " 25  date_joined                    object  \n",
      " 26  num_dependants                 int64   \n",
      " 27  civil_status                   object  \n",
      " 28  income                         int64   \n",
      "dtypes: category(7), float64(3), int32(2), int64(11), object(6)\n",
      "memory usage: 5.0+ GB\n"
     ]
    }
   ],
   "source": [
    "df_merged.info()"
   ]
  },
  {
   "cell_type": "code",
   "execution_count": 26,
   "id": "8643d3e1-92a9-4647-9073-7e0ac705b302",
   "metadata": {},
   "outputs": [],
   "source": [
    "# Export the cleaned DataFrame to a pickle file for further use\n",
    "df_merged.to_pickle(os.path.join(path, '02 Data','Prepared Data', 'instacart_data.pkl'))"
   ]
  }
 ],
 "metadata": {
  "kernelspec": {
   "display_name": "Python 3 (ipykernel)",
   "language": "python",
   "name": "python3"
  },
  "language_info": {
   "codemirror_mode": {
    "name": "ipython",
    "version": 3
   },
   "file_extension": ".py",
   "mimetype": "text/x-python",
   "name": "python",
   "nbconvert_exporter": "python",
   "pygments_lexer": "ipython3",
   "version": "3.12.7"
  }
 },
 "nbformat": 4,
 "nbformat_minor": 5
}
