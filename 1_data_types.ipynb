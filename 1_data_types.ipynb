{
 "cells": [
  {
   "cell_type": "markdown",
   "id": "3e36ab78-c688-403b-aef0-10b2eddac035",
   "metadata": {},
   "source": [
    "# Notebook 1"
   ]
  },
  {
   "cell_type": "markdown",
   "id": "f72636e1-3aac-4e82-9407-ff4f874f1044",
   "metadata": {},
   "source": [
    "## 01. Import libraries"
   ]
  },
  {
   "cell_type": "code",
   "execution_count": 1,
   "id": "9de2daa3-d8d4-483c-b3f0-c0c63124bf37",
   "metadata": {},
   "outputs": [],
   "source": [
    "# Import libraries\n",
    "import pandas as pd\n",
    "import numpy as np\n",
    "import os"
   ]
  },
  {
   "cell_type": "markdown",
   "id": "76095df0-30d6-4951-9948-fc8d53f7358f",
   "metadata": {},
   "source": [
    "## 02. Working with Python data types"
   ]
  },
  {
   "cell_type": "markdown",
   "id": "936a1e24-7c4b-4703-9e45-67a1e6b24d4f",
   "metadata": {},
   "source": [
    "### Step 7"
   ]
  },
  {
   "cell_type": "code",
   "execution_count": 26,
   "id": "8863bee1-5172-4eb7-8559-beb1c54947f3",
   "metadata": {},
   "outputs": [],
   "source": [
    "x = 2\n",
    "y = 5\n",
    "z = 10"
   ]
  },
  {
   "cell_type": "code",
   "execution_count": 6,
   "id": "ec1bb200-57af-4d2d-a6d2-c6c561e77474",
   "metadata": {},
   "outputs": [
    {
     "name": "stdout",
     "output_type": "stream",
     "text": [
      "100\n"
     ]
    }
   ],
   "source": [
    "print (x * y * z )"
   ]
  },
  {
   "cell_type": "code",
   "execution_count": 7,
   "id": "1a4d8cf0-f3de-4f5e-b3b4-00bf6752ddcf",
   "metadata": {},
   "outputs": [
    {
     "name": "stdout",
     "output_type": "stream",
     "text": [
      "100\n"
     ]
    }
   ],
   "source": [
    "print(y * z * 2)"
   ]
  },
  {
   "cell_type": "code",
   "execution_count": 8,
   "id": "20c18293-9a6f-4ea0-a4a5-c7bf50f21407",
   "metadata": {},
   "outputs": [
    {
     "name": "stdout",
     "output_type": "stream",
     "text": [
      "100\n"
     ]
    }
   ],
   "source": [
    "print(z * 10 )"
   ]
  },
  {
   "cell_type": "markdown",
   "id": "f36e2b95-244d-41f7-9963-6a8b1d817e47",
   "metadata": {},
   "source": [
    "### Step 8"
   ]
  },
  {
   "cell_type": "code",
   "execution_count": 9,
   "id": "6db10197-f1b5-41aa-8886-be36ea66fada",
   "metadata": {},
   "outputs": [],
   "source": [
    "a = 1.234"
   ]
  },
  {
   "cell_type": "code",
   "execution_count": 10,
   "id": "1e45c7eb-0457-4054-8505-57feaead796b",
   "metadata": {},
   "outputs": [
    {
     "data": {
      "text/plain": [
       "float"
      ]
     },
     "execution_count": 10,
     "metadata": {},
     "output_type": "execute_result"
    }
   ],
   "source": [
    "type (a)"
   ]
  },
  {
   "cell_type": "code",
   "execution_count": 11,
   "id": "5c4104ed-2648-4d3e-8610-8c5069103e38",
   "metadata": {},
   "outputs": [],
   "source": [
    "b = 2.345"
   ]
  },
  {
   "cell_type": "code",
   "execution_count": 12,
   "id": "04eed12a-077f-4590-93fb-cf4b1df54d14",
   "metadata": {},
   "outputs": [
    {
     "data": {
      "text/plain": [
       "float"
      ]
     },
     "execution_count": 12,
     "metadata": {},
     "output_type": "execute_result"
    }
   ],
   "source": [
    "type (b)"
   ]
  },
  {
   "cell_type": "code",
   "execution_count": 13,
   "id": "3da3c51a-ebcf-4ca0-ba1a-a1f42e042d9e",
   "metadata": {},
   "outputs": [
    {
     "name": "stdout",
     "output_type": "stream",
     "text": [
      "0.5262260127931769\n"
     ]
    }
   ],
   "source": [
    "print(a/b)"
   ]
  },
  {
   "cell_type": "markdown",
   "id": "ab4719e7-4ce4-4967-9ddc-c254e0ddadfe",
   "metadata": {},
   "source": [
    "### Step 9 "
   ]
  },
  {
   "cell_type": "code",
   "execution_count": 17,
   "id": "ad892ce0-452a-4fe2-89cc-d340b5af012c",
   "metadata": {},
   "outputs": [],
   "source": [
    "part1 = \"Py\""
   ]
  },
  {
   "cell_type": "code",
   "execution_count": 18,
   "id": "fd53d313-b987-4250-b973-dc18893906e7",
   "metadata": {},
   "outputs": [],
   "source": [
    "part2 = \"thon\""
   ]
  },
  {
   "cell_type": "code",
   "execution_count": 19,
   "id": "e356bfb3-c289-4e2b-b69a-6ec3c05e4897",
   "metadata": {},
   "outputs": [
    {
     "data": {
      "text/plain": [
       "'Python'"
      ]
     },
     "execution_count": 19,
     "metadata": {},
     "output_type": "execute_result"
    }
   ],
   "source": [
    "part1 + part2 "
   ]
  },
  {
   "cell_type": "markdown",
   "id": "666824ad-6a9f-4ed8-a47c-a32123e59b80",
   "metadata": {},
   "source": [
    "### Step 10"
   ]
  },
  {
   "cell_type": "code",
   "execution_count": 41,
   "id": "98b910ad-8ee0-435a-ab60-6d0f061e327f",
   "metadata": {},
   "outputs": [],
   "source": [
    "#first sentence \n",
    "part3 = \"I \"\n",
    "part4 = \"love \"\n",
    "part5 = \"my \"\n",
    "part6 = \"dog\""
   ]
  },
  {
   "cell_type": "code",
   "execution_count": 43,
   "id": "7da7c92e-1e89-4b35-8a3b-0341e6768765",
   "metadata": {},
   "outputs": [],
   "source": [
    "sentence1 = part3+part4+part5+part6"
   ]
  },
  {
   "cell_type": "code",
   "execution_count": 44,
   "id": "b25c730b-e8dc-42b8-ad53-0b8bd72c9c90",
   "metadata": {},
   "outputs": [
    {
     "name": "stdout",
     "output_type": "stream",
     "text": [
      "I love my dog\n"
     ]
    }
   ],
   "source": [
    "print (sentence1)"
   ]
  },
  {
   "cell_type": "code",
   "execution_count": 48,
   "id": "9c118045-ea9b-415a-9b95-d1d508ab4b82",
   "metadata": {},
   "outputs": [],
   "source": [
    "#second sentence\n",
    "part7 = \", her \"\n",
    "part8 = \"name \"\n",
    "part9 = \"is \"\n",
    "part10 = \"Hope. \""
   ]
  },
  {
   "cell_type": "code",
   "execution_count": 49,
   "id": "42d6318c-a614-416f-9098-012bf0065dca",
   "metadata": {},
   "outputs": [],
   "source": [
    "sentence2 = part7+part8+part9+part10"
   ]
  },
  {
   "cell_type": "code",
   "execution_count": 50,
   "id": "e427a48c-2c31-4baf-b359-90f4f84e1d97",
   "metadata": {},
   "outputs": [
    {
     "name": "stdout",
     "output_type": "stream",
     "text": [
      ", her name is Hope. \n"
     ]
    }
   ],
   "source": [
    "print(sentence2)"
   ]
  },
  {
   "cell_type": "code",
   "execution_count": 51,
   "id": "910b7887-91db-4e09-92cd-83a5ea6e8659",
   "metadata": {},
   "outputs": [
    {
     "name": "stdout",
     "output_type": "stream",
     "text": [
      "I love my dog, her name is Hope. \n"
     ]
    }
   ],
   "source": [
    "#short word\n",
    "print (sentence1+sentence2)"
   ]
  },
  {
   "cell_type": "markdown",
   "id": "fad3024a-0c37-4162-a6e8-d378be030397",
   "metadata": {},
   "source": [
    "### Bonus task"
   ]
  },
  {
   "cell_type": "code",
   "execution_count": 6,
   "id": "fad39353-67cd-46dd-a175-f8046095ae9d",
   "metadata": {},
   "outputs": [
    {
     "name": "stdout",
     "output_type": "stream",
     "text": [
      "Hope Hope Hope Hope Hope Hope Hope Hope Hope Hope Hope Hope Hope Hope Hope Hope Hope Hope Hope Hope Hope Hope Hope Hope Hope Hope Hope Hope Hope Hope Hope Hope Hope Hope Hope Hope Hope Hope Hope Hope Hope Hope Hope Hope Hope Hope Hope Hope Hope Hope Hope Hope Hope Hope Hope Hope Hope Hope Hope Hope Hope Hope Hope Hope Hope Hope Hope Hope Hope Hope Hope Hope Hope Hope Hope Hope Hope Hope Hope Hope Hope Hope Hope Hope Hope Hope Hope Hope Hope Hope Hope Hope Hope Hope Hope Hope Hope Hope Hope Hope \n"
     ]
    }
   ],
   "source": [
    "n = 'Hope ' \n",
    "print(n*100)\n"
   ]
  }
 ],
 "metadata": {
  "kernelspec": {
   "display_name": "Python 3 (ipykernel)",
   "language": "python",
   "name": "python3"
  },
  "language_info": {
   "codemirror_mode": {
    "name": "ipython",
    "version": 3
   },
   "file_extension": ".py",
   "mimetype": "text/x-python",
   "name": "python",
   "nbconvert_exporter": "python",
   "pygments_lexer": "ipython3",
   "version": "3.12.7"
  }
 },
 "nbformat": 4,
 "nbformat_minor": 5
}
