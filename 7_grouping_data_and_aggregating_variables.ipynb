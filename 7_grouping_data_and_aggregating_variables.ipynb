{
 "cells": [
  {
   "cell_type": "markdown",
   "id": "48b7d3a9-495d-4da5-8c1c-4470487b9d5a",
   "metadata": {},
   "source": [
    "### Step 1:"
   ]
  },
  {
   "cell_type": "code",
   "execution_count": 4,
   "id": "0140ff26-fe62-4b2c-8342-7482d7ea629b",
   "metadata": {},
   "outputs": [],
   "source": [
    "#Import libraries\n",
    "import pandas as pd\n",
    "import numpy as np\n",
    "import os"
   ]
  },
  {
   "cell_type": "code",
   "execution_count": 5,
   "id": "51eb09e6-c074-4ba0-9f62-d8e9af98bd74",
   "metadata": {},
   "outputs": [],
   "source": [
    "#import the orders_products_combined\n",
    "ords_prods_merge = pd.read_pickle(...\\02 Data\\Prepared Data\\orders_products_combined.pkl')\n",
    "path = ...\n",
    "ords_prods_merge = pd.read_pickle(os.path.join(path, '02 Data', 'Prepared Data', 'orders_products_combined.pkl'))"
   ]
  },
  {
   "cell_type": "markdown",
   "id": "c43d4f57-cf16-4b99-bb0b-e0676db32ab4",
   "metadata": {},
   "source": [
    "### Step 2:"
   ]
  },
  {
   "cell_type": "code",
   "execution_count": 9,
   "id": "9fef8e9e-32a6-4536-810e-85816e6b7f8c",
   "metadata": {},
   "outputs": [
    {
     "name": "stdout",
     "output_type": "stream",
     "text": [
      "department_id\n",
      "1     16.559358\n",
      "2     18.413176\n",
      "3     18.279600\n",
      "4     18.915890\n",
      "5     16.497751\n",
      "6     17.609390\n",
      "7     18.303975\n",
      "8     16.383301\n",
      "9     17.022963\n",
      "10    21.227447\n",
      "11    17.311768\n",
      "12    16.953613\n",
      "13    17.727470\n",
      "14    17.898097\n",
      "15    17.290123\n",
      "16    18.757796\n",
      "17    16.808683\n",
      "18    20.336389\n",
      "19    18.258620\n",
      "20    17.578959\n",
      "21    23.644477\n",
      "Name: order_number, dtype: float64\n"
     ]
    }
   ],
   "source": [
    "# Calculate the mean of 'order_number' grouped by 'department_id'\n",
    "dept_order_mean = ords_prods_merge.groupby('department_id')['order_number'].mean()\n",
    "print(dept_order_mean)"
   ]
  },
  {
   "cell_type": "markdown",
   "id": "4249b782-e2c4-40cc-a758-075ccb4e075e",
   "metadata": {},
   "source": [
    "### Step 3:"
   ]
  },
  {
   "cell_type": "markdown",
   "id": "108a702a-a5ec-48f0-ae89-015825c72040",
   "metadata": {},
   "source": [
    "##### Analysis of Results:\n",
    "- The results for the full DataFrame provide a more comprehensive view of the average `order_number` across departments compared to the subset, which could have biased results due to limited data.\n",
    "- Departments with the highest and lowest averages indicate differences in customer behavior across product categories.\n"
   ]
  },
  {
   "cell_type": "markdown",
   "id": "4069ad34-119c-43a5-a6cb-e13a0da96e55",
   "metadata": {},
   "source": [
    "### Step 4:"
   ]
  },
  {
   "cell_type": "code",
   "execution_count": 24,
   "id": "4c734543-6415-43ed-99c6-e0de7f184bdf",
   "metadata": {},
   "outputs": [
    {
     "name": "stderr",
     "output_type": "stream",
     "text": [
      "...\\ipykernel_7712\\1321159053.py:3: FutureWarning: The provided callable <function max at 0x00000216D07A4360> is currently using SeriesGroupBy.max. In a future version of pandas, the provided callable will be used directly. To keep current behavior pass the string \"max\" instead.\n",
      "  ords_prods_merge['max_order'] = ords_prods_merge.groupby('user_id')['order_number'].transform(np.max)\n"
     ]
    }
   ],
   "source": [
    "#Use transform() and loc() to create a loyalty flag for customers.\n",
    "# Calculate the maximum orders per user\n",
    "ords_prods_merge['max_order'] = ords_prods_merge.groupby('user_id')['order_number'].transform(np.max)"
   ]
  },
  {
   "cell_type": "code",
   "execution_count": 25,
   "id": "0deeb7d4-9fd0-4774-8990-b8a513762577",
   "metadata": {},
   "outputs": [
    {
     "name": "stdout",
     "output_type": "stream",
     "text": [
      "loyalty_flag\n",
      "Regular customer    15081691\n",
      "Loyal customer      10095381\n",
      "New customer         5151691\n",
      "Name: count, dtype: int64\n"
     ]
    }
   ],
   "source": [
    "# Create loyalty flag\n",
    "ords_prods_merge['loyalty_flag'] = 'New customer'\n",
    "ords_prods_merge.loc[ords_prods_merge['max_order'] > 40, 'loyalty_flag'] = 'Loyal customer'\n",
    "ords_prods_merge.loc[(ords_prods_merge['max_order'] > 10) & (ords_prods_merge['max_order'] <= 40), 'loyalty_flag'] = 'Regular customer'\n",
    "print(ords_prods_merge['loyalty_flag'].value_counts(dropna = False))"
   ]
  },
  {
   "cell_type": "markdown",
   "id": "ce6292df-878c-4697-8baa-508f84bb438f",
   "metadata": {},
   "source": [
    "### Step 5:"
   ]
  },
  {
   "cell_type": "code",
   "execution_count": 26,
   "id": "885b3925-a485-452b-b024-3fd912c8437f",
   "metadata": {},
   "outputs": [
    {
     "name": "stdout",
     "output_type": "stream",
     "text": [
      "                       count       mean         std  min  25%  50%   75%  \\\n",
      "loyalty_flag                                                               \n",
      "Loyal customer    10095381.0  10.402162  329.036155  1.0  4.2  7.4  11.2   \n",
      "New customer       5151691.0  13.396333  604.763039  1.0  4.2  7.4  11.3   \n",
      "Regular customer  15081691.0  12.546842  545.957947  1.0  4.2  7.4  11.3   \n",
      "\n",
      "                      max  \n",
      "loyalty_flag               \n",
      "Loyal customer    99999.0  \n",
      "New customer      99999.0  \n",
      "Regular customer  99999.0  \n"
     ]
    }
   ],
   "source": [
    "# Group by loyalty_flag and calculate statistics for prices\n",
    "loyalty_price_stats = ords_prods_merge.groupby('loyalty_flag')['prices'].describe()\n",
    "print(loyalty_price_stats)"
   ]
  },
  {
   "cell_type": "markdown",
   "id": "725fa45d-aa21-49bf-9c3a-c68e42e0ef53",
   "metadata": {},
   "source": [
    "### Step 6:"
   ]
  },
  {
   "cell_type": "code",
   "execution_count": 29,
   "id": "a49d6d32-a1e0-490c-a6dd-8e33ba0d301a",
   "metadata": {},
   "outputs": [],
   "source": [
    "#Create a spending flag\n",
    "# Calculate the mean price per user\n",
    "ords_prods_merge['avg_price'] = ords_prods_merge.groupby('user_id')['prices'].transform('mean')"
   ]
  },
  {
   "cell_type": "code",
   "execution_count": 31,
   "id": "8ee94215-149d-474f-9d1f-d892445c9216",
   "metadata": {},
   "outputs": [
    {
     "name": "stdout",
     "output_type": "stream",
     "text": [
      "spending_flag\n",
      "Low spender     29730505\n",
      "High spender      598258\n",
      "Name: count, dtype: int64\n"
     ]
    }
   ],
   "source": [
    "# Create spending flag\n",
    "ords_prods_merge['spending_flag'] = 'Low spender'\n",
    "ords_prods_merge.loc[ords_prods_merge['avg_price'] >= 10, 'spending_flag'] = 'High spender'\n",
    "print(ords_prods_merge['spending_flag'].value_counts())"
   ]
  },
  {
   "cell_type": "markdown",
   "id": "28588a9b-da8c-4ebf-90bf-6b225e844d29",
   "metadata": {},
   "source": [
    "### Step 7:"
   ]
  },
  {
   "cell_type": "code",
   "execution_count": 34,
   "id": "c39ad6b3-6430-4b10-b549-1b762c8c769c",
   "metadata": {},
   "outputs": [
    {
     "name": "stdout",
     "output_type": "stream",
     "text": [
      "order_frequency_flag\n",
      "Frequent customer        20675290\n",
      "Regular customer          6594542\n",
      "Non-frequent customer     3058931\n",
      "Name: count, dtype: int64\n"
     ]
    }
   ],
   "source": [
    "#Create an Order frequency flag\n",
    "# Calculate the median days_since_prior_order per user\n",
    "ords_prods_merge['median_days_since_prior_order'] = ords_prods_merge.groupby('user_id')['days_since_prior_order'].transform('median')\n",
    "\n",
    "# Create order frequency flag\n",
    "ords_prods_merge['order_frequency_flag'] = 'Frequent customer'\n",
    "ords_prods_merge.loc[ords_prods_merge['median_days_since_prior_order'] > 20, 'order_frequency_flag'] = 'Non-frequent customer'\n",
    "ords_prods_merge.loc[(ords_prods_merge['median_days_since_prior_order'] > 10) & (ords_prods_merge['median_days_since_prior_order'] <= 20), 'order_frequency_flag'] = 'Regular customer'\n",
    "print(ords_prods_merge['order_frequency_flag'].value_counts())"
   ]
  },
  {
   "cell_type": "markdown",
   "id": "5e74ae3e-ad66-44f1-88a2-a017002f767f",
   "metadata": {},
   "source": [
    "### Step 8:"
   ]
  },
  {
   "cell_type": "code",
   "execution_count": 39,
   "id": "4d6cb126-bdcc-47a9-a8bd-33951bfd8b9b",
   "metadata": {},
   "outputs": [
    {
     "name": "stdout",
     "output_type": "stream",
     "text": [
      "Missing values per column:\n",
      "order_id                         0\n",
      "user_id                          0\n",
      "order_number                     0\n",
      "orders_day_of_week               0\n",
      "order_hour_of_day                0\n",
      "days_since_prior_order           0\n",
      "product_id                       0\n",
      "add_to_cart_order                0\n",
      "reordered                        0\n",
      "product_name                     0\n",
      "aisle_id                         0\n",
      "department_id                    0\n",
      "prices                           0\n",
      "busiest_day                      0\n",
      "day_summary                      0\n",
      "busiest_period_of_day            0\n",
      "max_order                        0\n",
      "loyalty_flag                     0\n",
      "avg_price                        0\n",
      "spending_flag                    0\n",
      "median_days_since_prior_order    0\n",
      "order_frequency_flag             0\n",
      "dtype: int64\n"
     ]
    }
   ],
   "source": [
    "# Check for missing values\n",
    "missing_values = ords_prods_merge.isnull().sum()\n",
    "print(\"Missing values per column:\")\n",
    "print(missing_values)"
   ]
  },
  {
   "cell_type": "code",
   "execution_count": 38,
   "id": "5ad82216-705e-471d-80a6-15ee815e5bce",
   "metadata": {},
   "outputs": [
    {
     "name": "stdout",
     "output_type": "stream",
     "text": [
      "order_id                            int64\n",
      "user_id                             int64\n",
      "order_number                        int64\n",
      "orders_day_of_week                  int64\n",
      "order_hour_of_day                   int64\n",
      "days_since_prior_order            float64\n",
      "product_id                          int64\n",
      "add_to_cart_order                   int64\n",
      "reordered                           int64\n",
      "product_name                       object\n",
      "aisle_id                            int64\n",
      "department_id                       int64\n",
      "prices                            float64\n",
      "busiest_day                      category\n",
      "day_summary                      category\n",
      "busiest_period_of_day            category\n",
      "max_order                           int64\n",
      "loyalty_flag                       object\n",
      "avg_price                         float64\n",
      "spending_flag                      object\n",
      "median_days_since_prior_order     float64\n",
      "order_frequency_flag               object\n",
      "dtype: object\n"
     ]
    }
   ],
   "source": [
    "print(ords_prods_merge.dtypes)"
   ]
  },
  {
   "cell_type": "code",
   "execution_count": 40,
   "id": "bdf4ab4c-f358-4f10-ba39-ae00b33c188b",
   "metadata": {},
   "outputs": [],
   "source": [
    "# Convert columns with categorical data to 'category' type for efficiency\n",
    "ords_prods_merge['product_name'] = ords_prods_merge['product_name'].astype('category')\n",
    "ords_prods_merge['busiest_day'] = ords_prods_merge['busiest_day'].astype('category')\n",
    "ords_prods_merge['day_summary'] = ords_prods_merge['day_summary'].astype('category')\n",
    "ords_prods_merge['busiest_period_of_day'] = ords_prods_merge['busiest_period_of_day'].astype('category')\n",
    "ords_prods_merge['loyalty_flag'] = ords_prods_merge['loyalty_flag'].astype('category')\n",
    "ords_prods_merge['spending_flag'] = ords_prods_merge['spending_flag'].astype('category')\n",
    "ords_prods_merge['order_frequency_flag'] = ords_prods_merge['order_frequency_flag'].astype('category')\n",
    "# Ensure all relevant columns with numeric data are appropriately typed\n",
    "ords_prods_merge['order_hour_of_day'] = ords_prods_merge['order_hour_of_day'].astype(int)\n",
    "ords_prods_merge['orders_day_of_week'] = ords_prods_merge['orders_day_of_week'].astype(int)"
   ]
  },
  {
   "cell_type": "code",
   "execution_count": 41,
   "id": "fb4159ba-7a53-4f4e-b140-84024400f89f",
   "metadata": {},
   "outputs": [],
   "source": [
    "# Drop intermediate columns that are no longer needed\n",
    "ords_prods_merge = ords_prods_merge.drop(columns=['max_order', 'avg_price'], errors='ignore')  # Ignore errors if columns don't exist"
   ]
  },
  {
   "cell_type": "code",
   "execution_count": 43,
   "id": "42dbfa2e-b71b-4baa-86d7-4a5640360b70",
   "metadata": {},
   "outputs": [],
   "source": [
    "# Export the cleaned DataFrame to a pickle file for further use\n",
    "ords_prods_merge.to_pickle(os.path.join(path, '02 Data','Prepared Data', 'orders_products_combined.pkl'))"
   ]
  },
  {
   "cell_type": "code",
   "execution_count": null,
   "id": "60d9169d-d94a-49e7-b9c1-f0ec1c1fd1bd",
   "metadata": {},
   "outputs": [],
   "source": []
  }
 ],
 "metadata": {
  "kernelspec": {
   "display_name": "Python 3 (ipykernel)",
   "language": "python",
   "name": "python3"
  },
  "language_info": {
   "codemirror_mode": {
    "name": "ipython",
    "version": 3
   },
   "file_extension": ".py",
   "mimetype": "text/x-python",
   "name": "python",
   "nbconvert_exporter": "python",
   "pygments_lexer": "ipython3",
   "version": "3.12.7"
  }
 },
 "nbformat": 4,
 "nbformat_minor": 5
}
